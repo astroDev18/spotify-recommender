{
 "metadata": {
  "language_info": {
   "codemirror_mode": {
    "name": "ipython",
    "version": 3
   },
   "file_extension": ".py",
   "mimetype": "text/x-python",
   "name": "python",
   "nbconvert_exporter": "python",
   "pygments_lexer": "ipython3",
   "version": "3.6.9-final"
  },
  "orig_nbformat": 2,
  "kernelspec": {
   "name": "python3",
   "display_name": "Python 3"
  }
 },
 "nbformat": 4,
 "nbformat_minor": 2,
 "cells": [
  {
   "cell_type": "markdown",
   "metadata": {},
   "source": [
    "# A More fleshed out Proof of Concept of unsupervised KNN for Recommending Artists"
   ]
  },
  {
   "cell_type": "markdown",
   "metadata": {},
   "source": [
    "## Loading libraries"
   ]
  },
  {
   "cell_type": "code",
   "execution_count": 1,
   "metadata": {},
   "outputs": [],
   "source": [
    "import numpy as np\n",
    "import pandas as pd\n",
    "from sklearn.neighbors import NearestNeighbors\n",
    "from sklearn.preprocessing import StandardScaler"
   ]
  },
  {
   "cell_type": "markdown",
   "metadata": {},
   "source": [
    "## Loading the data"
   ]
  },
  {
   "cell_type": "code",
   "execution_count": 2,
   "metadata": {},
   "outputs": [],
   "source": [
    "df = pd.read_csv(\"/Users/Banner/Downloads/spotify_data/data_by_artist.csv\")"
   ]
  },
  {
   "cell_type": "markdown",
   "metadata": {},
   "source": [
    "## Looking at the structure of the data"
   ]
  },
  {
   "cell_type": "code",
   "execution_count": 3,
   "metadata": {
    "tags": []
   },
   "outputs": [
    {
     "output_type": "stream",
     "name": "stdout",
     "text": "<class 'pandas.core.frame.DataFrame'>\nRangeIndex: 27621 entries, 0 to 27620\nData columns (total 15 columns):\n #   Column            Non-Null Count  Dtype  \n---  ------            --------------  -----  \n 0   artists           27621 non-null  object \n 1   acousticness      27621 non-null  float64\n 2   danceability      27621 non-null  float64\n 3   duration_ms       27621 non-null  float64\n 4   energy            27621 non-null  float64\n 5   instrumentalness  27621 non-null  float64\n 6   liveness          27621 non-null  float64\n 7   loudness          27621 non-null  float64\n 8   speechiness       27621 non-null  float64\n 9   tempo             27621 non-null  float64\n 10  valence           27621 non-null  float64\n 11  popularity        27621 non-null  float64\n 12  key               27621 non-null  int64  \n 13  mode              27621 non-null  int64  \n 14  count             27621 non-null  int64  \ndtypes: float64(11), int64(3), object(1)\nmemory usage: 3.2+ MB\n"
    }
   ],
   "source": [
    "df.info()"
   ]
  },
  {
   "cell_type": "markdown",
   "metadata": {},
   "source": [
    "## Dropping irrelevant features"
   ]
  },
  {
   "cell_type": "code",
   "execution_count": 4,
   "metadata": {},
   "outputs": [],
   "source": [
    "df.drop([\"key\", \"mode\", \"count\", \"duration_ms\"], axis=1, inplace=True)"
   ]
  },
  {
   "cell_type": "markdown",
   "metadata": {},
   "source": [
    "## Sampling 100 rows randomly"
   ]
  },
  {
   "cell_type": "code",
   "execution_count": 5,
   "metadata": {},
   "outputs": [
    {
     "output_type": "execute_result",
     "data": {
      "text/plain": "                     artists  acousticness  danceability    energy  \\\n16841            Mort Garson      0.601122      0.349048  0.276048   \n6777            Eddie Hodges      0.637667      0.686333  0.236000   \n24578            The Seekers      0.539000      0.515000  0.490800   \n17823  Odeon Dans Orkestrası      0.990500      0.356500  0.347500   \n27009                    Zaz      0.251000      0.525000  0.807000   \n...                      ...           ...           ...       ...   \n4300           Chief Kamachi      0.045700      0.594000  0.913000   \n23593          The Chakachas      0.482000      0.699500  0.494500   \n24696           The Supremes      0.455708      0.585726  0.606339   \n18502    Patience & Prudence      0.946000      0.687500  0.299000   \n22472       Stephen Douglass      0.937833      0.421083  0.215583   \n\n       instrumentalness  liveness   loudness  speechiness       tempo  \\\n16841          0.664629  0.183381 -14.095952     0.034867  129.609857   \n6777           0.000000  0.100800 -13.161000     0.056167  121.960000   \n24578          0.016744  0.257400  -9.114200     0.030480  112.057800   \n17823          0.840500  0.431500 -11.376000     0.034950  137.658500   \n27009          0.000000  0.050400  -6.366000     0.072500  155.397000   \n...                 ...       ...        ...          ...         ...   \n4300           0.000191  0.284000  -4.545000     0.294000   92.038000   \n23593          0.075543  0.097600 -15.386500     0.268000   96.520000   \n24696          0.009334  0.215623  -8.817129     0.040716  123.298742   \n18502          0.000000  0.090300  -8.312500     0.029600  108.212500   \n22472          0.000042  0.234383 -13.646417     0.047325  117.797750   \n\n        valence  popularity  \n16841  0.269619   43.904762  \n6777   0.832000   29.333333  \n24578  0.655200   49.600000  \n17823  0.545500    0.000000  \n27009  0.741000   68.000000  \n...         ...         ...  \n4300   0.735000   52.000000  \n23593  0.767000   38.500000  \n24696  0.731613   31.145161  \n18502  0.755500   53.000000  \n22472  0.326000    6.166667  \n\n[100 rows x 11 columns]",
      "text/html": "<div>\n<style scoped>\n    .dataframe tbody tr th:only-of-type {\n        vertical-align: middle;\n    }\n\n    .dataframe tbody tr th {\n        vertical-align: top;\n    }\n\n    .dataframe thead th {\n        text-align: right;\n    }\n</style>\n<table border=\"1\" class=\"dataframe\">\n  <thead>\n    <tr style=\"text-align: right;\">\n      <th></th>\n      <th>artists</th>\n      <th>acousticness</th>\n      <th>danceability</th>\n      <th>energy</th>\n      <th>instrumentalness</th>\n      <th>liveness</th>\n      <th>loudness</th>\n      <th>speechiness</th>\n      <th>tempo</th>\n      <th>valence</th>\n      <th>popularity</th>\n    </tr>\n  </thead>\n  <tbody>\n    <tr>\n      <th>16841</th>\n      <td>Mort Garson</td>\n      <td>0.601122</td>\n      <td>0.349048</td>\n      <td>0.276048</td>\n      <td>0.664629</td>\n      <td>0.183381</td>\n      <td>-14.095952</td>\n      <td>0.034867</td>\n      <td>129.609857</td>\n      <td>0.269619</td>\n      <td>43.904762</td>\n    </tr>\n    <tr>\n      <th>6777</th>\n      <td>Eddie Hodges</td>\n      <td>0.637667</td>\n      <td>0.686333</td>\n      <td>0.236000</td>\n      <td>0.000000</td>\n      <td>0.100800</td>\n      <td>-13.161000</td>\n      <td>0.056167</td>\n      <td>121.960000</td>\n      <td>0.832000</td>\n      <td>29.333333</td>\n    </tr>\n    <tr>\n      <th>24578</th>\n      <td>The Seekers</td>\n      <td>0.539000</td>\n      <td>0.515000</td>\n      <td>0.490800</td>\n      <td>0.016744</td>\n      <td>0.257400</td>\n      <td>-9.114200</td>\n      <td>0.030480</td>\n      <td>112.057800</td>\n      <td>0.655200</td>\n      <td>49.600000</td>\n    </tr>\n    <tr>\n      <th>17823</th>\n      <td>Odeon Dans Orkestrası</td>\n      <td>0.990500</td>\n      <td>0.356500</td>\n      <td>0.347500</td>\n      <td>0.840500</td>\n      <td>0.431500</td>\n      <td>-11.376000</td>\n      <td>0.034950</td>\n      <td>137.658500</td>\n      <td>0.545500</td>\n      <td>0.000000</td>\n    </tr>\n    <tr>\n      <th>27009</th>\n      <td>Zaz</td>\n      <td>0.251000</td>\n      <td>0.525000</td>\n      <td>0.807000</td>\n      <td>0.000000</td>\n      <td>0.050400</td>\n      <td>-6.366000</td>\n      <td>0.072500</td>\n      <td>155.397000</td>\n      <td>0.741000</td>\n      <td>68.000000</td>\n    </tr>\n    <tr>\n      <th>...</th>\n      <td>...</td>\n      <td>...</td>\n      <td>...</td>\n      <td>...</td>\n      <td>...</td>\n      <td>...</td>\n      <td>...</td>\n      <td>...</td>\n      <td>...</td>\n      <td>...</td>\n      <td>...</td>\n    </tr>\n    <tr>\n      <th>4300</th>\n      <td>Chief Kamachi</td>\n      <td>0.045700</td>\n      <td>0.594000</td>\n      <td>0.913000</td>\n      <td>0.000191</td>\n      <td>0.284000</td>\n      <td>-4.545000</td>\n      <td>0.294000</td>\n      <td>92.038000</td>\n      <td>0.735000</td>\n      <td>52.000000</td>\n    </tr>\n    <tr>\n      <th>23593</th>\n      <td>The Chakachas</td>\n      <td>0.482000</td>\n      <td>0.699500</td>\n      <td>0.494500</td>\n      <td>0.075543</td>\n      <td>0.097600</td>\n      <td>-15.386500</td>\n      <td>0.268000</td>\n      <td>96.520000</td>\n      <td>0.767000</td>\n      <td>38.500000</td>\n    </tr>\n    <tr>\n      <th>24696</th>\n      <td>The Supremes</td>\n      <td>0.455708</td>\n      <td>0.585726</td>\n      <td>0.606339</td>\n      <td>0.009334</td>\n      <td>0.215623</td>\n      <td>-8.817129</td>\n      <td>0.040716</td>\n      <td>123.298742</td>\n      <td>0.731613</td>\n      <td>31.145161</td>\n    </tr>\n    <tr>\n      <th>18502</th>\n      <td>Patience &amp; Prudence</td>\n      <td>0.946000</td>\n      <td>0.687500</td>\n      <td>0.299000</td>\n      <td>0.000000</td>\n      <td>0.090300</td>\n      <td>-8.312500</td>\n      <td>0.029600</td>\n      <td>108.212500</td>\n      <td>0.755500</td>\n      <td>53.000000</td>\n    </tr>\n    <tr>\n      <th>22472</th>\n      <td>Stephen Douglass</td>\n      <td>0.937833</td>\n      <td>0.421083</td>\n      <td>0.215583</td>\n      <td>0.000042</td>\n      <td>0.234383</td>\n      <td>-13.646417</td>\n      <td>0.047325</td>\n      <td>117.797750</td>\n      <td>0.326000</td>\n      <td>6.166667</td>\n    </tr>\n  </tbody>\n</table>\n<p>100 rows × 11 columns</p>\n</div>"
     },
     "metadata": {},
     "execution_count": 5
    }
   ],
   "source": [
    "sample_df = df.sample(n=100)\n",
    "sample_df"
   ]
  },
  {
   "cell_type": "markdown",
   "metadata": {},
   "source": [
    "## Scaling and normalizing"
   ]
  },
  {
   "cell_type": "code",
   "execution_count": 6,
   "metadata": {},
   "outputs": [],
   "source": [
    "scaler = StandardScaler()\n",
    "X_train = sample_df.iloc[:,1:].values\n",
    "scaler.fit(X_train)\n",
    "X_train = scaler.transform(X_train)\n"
   ]
  },
  {
   "cell_type": "markdown",
   "metadata": {},
   "source": [
    "## Training model"
   ]
  },
  {
   "cell_type": "code",
   "execution_count": 7,
   "metadata": {},
   "outputs": [
    {
     "output_type": "execute_result",
     "data": {
      "text/plain": "NearestNeighbors(n_neighbors=10)"
     },
     "metadata": {},
     "execution_count": 7
    }
   ],
   "source": [
    "model = NearestNeighbors(n_neighbors = 10)\n",
    "model.fit(X_train)"
   ]
  },
  {
   "cell_type": "markdown",
   "metadata": {},
   "source": [
    "## Extracting Neighbors"
   ]
  },
  {
   "cell_type": "code",
   "execution_count": 8,
   "metadata": {},
   "outputs": [],
   "source": [
    "_, neighbors = model.kneighbors(X_train[:1,:],n_neighbors=6)"
   ]
  },
  {
   "cell_type": "code",
   "execution_count": 9,
   "metadata": {},
   "outputs": [
    {
     "output_type": "execute_result",
     "data": {
      "text/plain": "array([[ 0, 22, 26, 21, 67, 34]])"
     },
     "metadata": {},
     "execution_count": 9
    }
   ],
   "source": [
    "neighbors[:]"
   ]
  }
 ]
}